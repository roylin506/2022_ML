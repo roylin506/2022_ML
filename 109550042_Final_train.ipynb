{
 "cells": [
  {
   "cell_type": "code",
   "execution_count": 1,
   "metadata": {},
   "outputs": [],
   "source": [
    "import pandas as pd\n",
    "\n",
    "train_df = pd.read_csv('data/train.csv')\n",
    "test_df = pd.read_csv('data/test.csv')\n",
    "\n",
    "cols = ['attribute_0', 'attribute_1']\n",
    "mapper = [{'material_7': 7.0, 'material_5': 5.0}, {'material_8': 8.0, 'material_5': 5.0, 'material_6': 6.0, 'material_7': 7.0}]\n",
    "\n",
    "for i in range(len(train_df)):\n",
    "    train_df.iat[i, 1] = ord(train_df.iat[i, 1]) * 3.0\n",
    "for i in range(len(test_df)):\n",
    "    test_df.iat[i, 1] = ord(test_df.iat[i, 1]) * 3.0\n",
    "\n",
    "for i, col in enumerate(cols):\n",
    "    train_df[col] = train_df[col].replace(mapper[i])\n",
    "    test_df[col] = test_df[col].replace(mapper[i])\n",
    "\n",
    "x_train_df = train_df.drop(['id'], axis=1)\n",
    "x_test_df = test_df.drop(['id'], axis=1)\n",
    "\n",
    "from sklearn.impute import SimpleImputer\n",
    "import numpy as np\n",
    "\n",
    "x_train_df = x_train_df.astype({'attribute_0':'float', 'attribute_1':'float', 'attribute_2':'float', 'attribute_3':'float', 'measurement_0':'float', 'measurement_1':'float', 'measurement_2':'float'})\n",
    "x_test_df = x_test_df.astype({'attribute_0':'float', 'attribute_1':'float', 'attribute_2':'float', 'attribute_3':'float', 'measurement_0':'float', 'measurement_1':'float', 'measurement_2':'float'})\n",
    "\n",
    "imp = SimpleImputer(strategy='median')\n",
    "train_imp = imp.fit(x_train_df)\n",
    "X_train = train_imp.transform(x_train_df)\n",
    "test_imp = imp.fit(x_test_df)\n",
    "x_test = test_imp.transform(x_test_df)"
   ]
  },
  {
   "attachments": {},
   "cell_type": "markdown",
   "metadata": {},
   "source": [
    "# DNN"
   ]
  },
  {
   "cell_type": "code",
   "execution_count": 2,
   "metadata": {},
   "outputs": [],
   "source": [
    "from torch.utils.data import Dataset, DataLoader\n",
    "import torch\n",
    "\n",
    "class TaskDataset(Dataset):\n",
    "    def __init__(self, data, label=None):\n",
    "        if label is None:\n",
    "            self.data = [(sample[:-1], sample[-1]) for sample in data]\n",
    "        else:\n",
    "            self.data = [sample for sample in data]\n",
    "    \n",
    "    def __getitem__(self, index):\n",
    "        return self.data[index]\n",
    "\n",
    "    def __len__(self):\n",
    "        return len(self.data)\n",
    "\n",
    "batchs = 500\n",
    "train_ds = TaskDataset(X_train)\n",
    "train_dl = DataLoader(train_ds, batch_size=batchs, num_workers=4, drop_last=True, shuffle=True)"
   ]
  },
  {
   "cell_type": "code",
   "execution_count": 3,
   "metadata": {},
   "outputs": [],
   "source": [
    "from torchvision import datasets, models, transforms, utils\n",
    "import torch.nn as nn\n",
    "\n",
    "# set parameters\n",
    "drop1, drop2, drop3, drop4 = 0.1, 0.15, 0.15, 0.1\n",
    "dim1, dim2, dim3, dim4, dim5 = 512, 2048, 1024, 512, 32\n",
    "\n",
    "# Create Model\n",
    "class mymodel(nn.Module):\n",
    "    def __init__(self):\n",
    "        super(mymodel, self).__init__()\n",
    "        self.model = nn.Sequential(nn.Linear(24, dim1),\n",
    "                     nn.ReLU(),\n",
    "                     nn.Linear(dim1, dim2),\n",
    "                     nn.ReLU(),\n",
    "                     nn.Dropout(drop1),\n",
    "                     nn.Linear(dim2, dim3),\n",
    "                     nn.ReLU(),\n",
    "                     nn.Dropout(drop2),\n",
    "                     nn.Linear(dim3, dim4),\n",
    "                     nn.ReLU(),\n",
    "                     nn.Dropout(drop3),\n",
    "                     nn.Linear(dim4, dim5),\n",
    "                     nn.ReLU(),\n",
    "                     nn.Dropout(drop4),\n",
    "                     nn.Linear(dim5, 1),\n",
    "                     nn.Sigmoid())\n",
    "    \n",
    "    def forward(self, x):\n",
    "        logits = self.model(x)\n",
    "        return logits"
   ]
  },
  {
   "cell_type": "code",
   "execution_count": 4,
   "metadata": {},
   "outputs": [
    {
     "name": "stdout",
     "output_type": "stream",
     "text": [
      "True\n"
     ]
    }
   ],
   "source": [
    "print(torch.cuda.is_available())\n",
    "device = 'cuda'\n",
    "\n",
    "model = mymodel().to('cuda')\n",
    "LR = 1e-6\n",
    "optimizer = torch.optim.Adam(model.parameters(), lr=LR)\n",
    "loss_fn = nn.BCELoss()\n",
    "\n",
    "epo = 35\n",
    "for epoch in range(epo):\n",
    "    model.train()\n",
    "    for x_attr, label in train_dl:\n",
    "        x_attr = x_attr.to(device).to(torch.float32)\n",
    "        label = label.to(device).to(torch.float32)\n",
    "\n",
    "        pred = model(x_attr).view(len(label))\n",
    "        loss = loss_fn(pred, label)\n",
    "        \n",
    "        optimizer.zero_grad()\n",
    "        loss.backward()\n",
    "        optimizer.step()\n",
    "\n",
    "test_ds = TaskDataset(x_test, label=0)\n",
    "test_dl = DataLoader(test_ds, batch_size=100, num_workers=4, drop_last=False, shuffle=False)\n",
    "\n",
    "f = open(\"109550042.csv\", \"w\")\n",
    "f.write(\"id,failure\\n\")\n",
    "\n",
    "cnt = 26570\n",
    "model.eval()\n",
    "for x_attr in test_dl:\n",
    "    x_attr = x_attr.to(device).to(torch.float32)\n",
    "\n",
    "    pred = model(x_attr)\n",
    "    for i in range(len(pred)):\n",
    "        f.write(f'{cnt},{pred[i][0]}\\n')\n",
    "        cnt += 1\n",
    "f.close()\n",
    "\n",
    "FILE = f'model.pt'\n",
    "torch.save(model.state_dict(), FILE)"
   ]
  }
 ],
 "metadata": {
  "kernelspec": {
   "display_name": "Python 3",
   "language": "python",
   "name": "python3"
  },
  "language_info": {
   "codemirror_mode": {
    "name": "ipython",
    "version": 3
   },
   "file_extension": ".py",
   "mimetype": "text/x-python",
   "name": "python",
   "nbconvert_exporter": "python",
   "pygments_lexer": "ipython3",
   "version": "3.10.8"
  },
  "orig_nbformat": 4,
  "vscode": {
   "interpreter": {
    "hash": "e7370f93d1d0cde622a1f8e1c04877d8463912d04d973331ad4851f04de6915a"
   }
  }
 },
 "nbformat": 4,
 "nbformat_minor": 2
}
